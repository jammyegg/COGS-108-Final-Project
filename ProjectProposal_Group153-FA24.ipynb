{
 "cells": [
  {
   "cell_type": "markdown",
   "metadata": {},
   "source": [
    "# COGS 108 - Project Proposal"
   ]
  },
  {
   "cell_type": "markdown",
   "metadata": {},
   "source": [
    "# Names\n",
    "\n",
    "- Manya Jain\n",
    "- Jammy Luo\n",
    "- Katie Le\n",
    "- Vidhi Oswal"
   ]
  },
  {
   "cell_type": "markdown",
   "metadata": {},
   "source": [
    "# Research Question"
   ]
  },
  {
   "cell_type": "markdown",
   "metadata": {},
   "source": [
    "Do mismatches in sociodemographic factors affect the length of a relationship? \n",
    "Sociodemographic factors including age, household income, employment status, race, education, number of past partners, etc.\n",
    "\n"
   ]
  },
  {
   "cell_type": "markdown",
   "metadata": {},
   "source": [
    "## Background and Prior Work"
   ]
  },
  {
   "cell_type": "markdown",
   "metadata": {},
   "source": [
    "There are many factors that can influence the length of a relationship. Although some may seem arbitrary, there is a general idea that certain mismatches in compatibility tend to result in shorter relationships. Sociodemographic factors such as age, economic status, race, education level, and even previous relationship histories play a role in shaping the interactions and compatibility of individuals within a relationship. \n",
    "\n",
    "Vogue describes a general rule of thumb that the ideal age gap should be half your age then add seven for the lower barrier, and take seven of your age then double it for the upper barrier.<a name=\"cite_ref-3\"></a>[<sup>3</sup>](#cite_note-3) Age is not always a deciding factor that makes or breaks a relationship, but the power dynamic that results can be emotionally taxing. \n",
    "\n",
    "A study was done by Li et al., examining the effects on a womens happiness in relation to her education compared to her husband. The data looked at a wide variety of sociodemographic variables, specifically looking at education and self esteem. The results showed a mean of -0.167 for education, referring to the fact that only 22% of women had a higher education than their counterparts.<a name=\"cite_ref-2\"></a>[<sup>2</sup>](#cite_note-2) Additionally, in comparison there is a decrease in a woman's happiness from 0.064 to 0.058 as she increases in education. The study suggests that there is a possible correlation between happiness in a relationship and the education level of both partners. The clear sign of either partner “marrying up” can release negative emotions to the relationship. Despite this, the study does not specify the effect of education on the relationship itself, which is a point to consider. \n",
    "\n",
    "According to The Guardian, significant income or wealth gaps in relationships can create unique challenges, often increasing power dynamics that can influence relationship stability and satisfaction. Such differences may highlight contrasting financial habits or values, potentially leading to tensions around shared expenses, lifestyle choices, or long-term goals. Studies indicate that individuals who maintain financial independence within relationships may experience less pressure tied to monetary support, but they still often face societal judgments about income disparity, especially when gender norms are challenged.<a name=\"cite_ref-1\"></a>[<sup>1</sup>](#cite_note-1)\n",
    "Previous studies and articles have mentioned many of these sociodemographic factors, but not particularly in terms of how it affects the stability or length of the relationship itself. This project seeks to explore how these factors interact to predict the length of romantic relationships, providing a quantitative analysis that aims to uncover patterns of relationship longevity across diverse sociodemographic backgrounds.\n",
    "\n",
    "1. <a name=\"cite_note-1\"></a> [^](#cite_ref-1) Hunt, E. (2024, September 21). “I earn £2m – my partner £20k. it’s a bit ridiculous”: The truth about wealth-gap relationships. The Guardian. https://www.theguardian.com/lifeandstyle/2024/sep/21/the-truth-about-wealth-gap-relationships#:~:text=Vast%20differences%20in%20income%20and,money%20%E2%80%93%20as%20hitting%20the%20jackpot \n",
    "2. <a name=\"cite_note-2\"></a> [^](#cite_ref-2) Li, Z., & Feng, X. (2023). Educational Difference Between Partners and Wife’s Happiness. Journal of Family Issues, 44(10), 2684-2707. https://doi.org/10.1177/0192513X221106731\n",
    "3. <a name=\"cite_note-3\"></a> [^](#cite_ref-3) Rasmussen, T. (2024, June 4). What is an Acceptable Age Gap in Relationships?. Vogue. https://www.vogue.com/article/age-gap-relationships"
   ]
  },
  {
   "cell_type": "markdown",
   "metadata": {},
   "source": [
    "# Hypothesis\n"
   ]
  },
  {
   "cell_type": "markdown",
   "metadata": {},
   "source": [
    "\n",
    "The greater mismatch in variables between partners, the greater the likelihood of a relationship not lasting. \n",
    "For example, if there is a larger age gap, we believe that the you are likely to be in different stages in life.\n",
    "Hence, the two individuals have different expectations for each other in the relationship.\n",
    "\n"
   ]
  },
  {
   "cell_type": "markdown",
   "metadata": {},
   "source": [
    "# Data"
   ]
  },
  {
   "cell_type": "markdown",
   "metadata": {},
   "source": [
    "1. Explain what the **ideal** dataset you would want to answer this question. (This should include: What variables? How many observations? Who/what/how would these data be collected? How would these data be stored/organized?)\n",
    "\n",
    "    The ideal dataset should include the measure of the length of relationships in time by months in comparison to variables we wish to examine, such as age, household income, employment status, race, education, number of past partners, etc. These variables will be inquired and plotted along with how long individuals have been in their current relationship. The amount of observations should be over 1000+ people to achieve an accurate sampling size that can encompass a population of a typical American society ages 21+. This means that the data will be collected from a broad range of people starting from newly graduated college students to an upper bound of age 40. The method of data collection will be through random phone call surveys.\n",
    "1. Search for potential **real** datasets that could provide you with something useful for this project.  You do not have to find every piece of data you will use, but you do need to have demonstrated some idea that (a) this data is gettable and (b) that this data may be different from what your ideal is.\n",
    "\n",
    "    https://data.stanford.edu/hcmst: This link to a study on How Couples Meet and Stay Together has potential datasets that measure the basis of every variable we want to explore, such as age and race. It also introduces the question of couple stability that we want to delve further into through a different lens. Contains 3 other links to datasets that prove to be potentially useful."
   ]
  },
  {
   "cell_type": "markdown",
   "metadata": {},
   "source": [
    "# Ethics & Privacy"
   ]
  },
  {
   "cell_type": "markdown",
   "metadata": {},
   "source": [
    "Acknowledge and address any ethics & privacy related issues of your question(s), proposed dataset(s), and/or analyses. Use the information provided in lecture to guide your group discussion and thinking. If you need further guidance, check out [Deon's Ethics Checklist](http://deon.drivendata.org/#data-science-ethics-checklist). In particular:\n",
    "\n",
    "- Are there any biases/privacy/terms of use issues with the data you proposed?\n",
    "\n",
    "    There are no biases in the data proposed because the method of survey that is distributed to respondents is through random digit dial phone calls. This allows for a more holistic representation of the standard American society we aim for since surveys won't be directed to one region, but rather across the United States. There are no privacy or terms of use issues with the data we have proposed as well. Each individual is associated with an ID for anonymization, which will be stated in the beginning of the call along with consent to start the survey.\n",
    "  \n",
    "- Are there potential biases in your dataset(s), in terms of who it composes, and how it was collected, that may be problematic in terms of it allowing for equitable analysis? (For example, does your data exclude particular populations, or is it likely to reflect particular human biases in a way that could be a problem?)\n",
    "\n",
    "  It is unlikely that there are any potential biases in our dataset(s) as we intend for it to be composed of a diverse pool of people across the country through randomized voluntary phone call surveys. To make sure there is an equal amount of people from each region/area code, we may cap the calls to a certain amount. However, our data excludes particular populations that do not have access to cellular devices or telephones, which could be problematic as it could mean exclusion of populations with lower household income or other reasons for this restricted access.\n",
    "\n",
    "- How will you set out to detect these specific biases before, during, and after/when communicating your analysis?\n",
    "\n",
    "    To check for potential biases in our dataset(s) and if any groups are underrepresented, we will perform an exploratory data analysis (EDA). During analysis, we will check if there are sociodemographic factors that disproportionately influence our model, indicating any sort of bias."
   ]
  },
  {
   "cell_type": "markdown",
   "metadata": {},
   "source": [
    "# Team Expectations "
   ]
  },
  {
   "cell_type": "markdown",
   "metadata": {},
   "source": [
    "\n",
    "Read over the [COGS108 Team Policies](https://github.com/COGS108/Projects/blob/master/COGS108_TeamPolicies.md) individually. Then, include your group’s expectations of one another for successful completion of your COGS108 project below. Discuss and agree on what all of your expectations are. Discuss how your team will communicate throughout the quarter and consider how you will communicate respectfully should conflicts arise. By including each member’s name above and by adding their name to the submission, you are indicating that you have read the COGS108 Team Policies, accept your team’s expectations below, and have every intention to fulfill them. These expectations are for your team’s use and benefit — they won’t be graded for their details.\n",
    "\n",
    "* *Team members are expected to keep up to date on the proposed timeline below.*\n",
    "* *Team members are expected to keep up to date on group communication and messages through Discord.*\n",
    "* *The team is expected to meet at least once a week, according to the timeline below.*\n",
    "* *If an individual member is struggling to fulfill their expected role, they must communicate clearly with the rest of the group to come to a compromise.*\n",
    "* *To resolve any issues, the team will allocate effort equally to finish the work.*\n",
    "* *For decision making, everything will follow a unanimous vote.*"
   ]
  },
  {
   "cell_type": "markdown",
   "metadata": {},
   "source": [
    "# Project Timeline Proposal"
   ]
  },
  {
   "cell_type": "markdown",
   "metadata": {},
   "source": [
    "Specify your team's specific project timeline. An example timeline has been provided. Changes the dates, times, names, and details to fit your group's plan.\n",
    "\n",
    "If you think you will need any special resources or training outside what we have covered in COGS 108 to solve your problem, then your proposal should state these clearly. For example, if you have selected a problem that involves implementing multiple neural networks, please state this so we can make sure you know what you’re doing and so we can point you to resources you will need to implement your project. Note that you are not required to use outside methods.\n",
    "\n",
    "\n",
    "\n",
    "| Meeting Date  | Meeting Time| Completed Before Meeting  | Discuss at Meeting |\n",
    "|---|---|---|---|\n",
    "| 10/21  |  5 PM | Brainstorm topics/questions  | Determine best form of communication; create Discord groupchat; exchange contacts; begin background research, brainstorm into Google Docs | \n",
    "| 10/30  |  5 PM |  Brainstorm more topics, add to Google Docs | Work on Project Proposal; decide future meeting times; edit and finalize proposal for submission | \n",
    "| 11/06  | 5 PM  | Search for datasets  | Discuss Wrangling and possible analytical approaches; Have each member in the group work on specific parts   |\n",
    "| 11/13  | 5 PM  | Import & Wrangle Data | Review/Edit wrangling/EDA; Discuss Analysis Plan   |\n",
    "| 11/20  | 5 PM  | Finalize wrangling/EDA; Begin Analysis | Discuss/edit Analysis; Complete project check-in |\n",
    "| 11/27  | TBA  | Complete analysis; Draft results/conclusion/discussion | Discuss/edit full project |\n",
    "| 12/04  | 5 PM  | Work on draft for results/conclusion/discussion; Finalize results/conclusion/discussion | Discuss/edit full project |\n",
    "| 12/11  | Before 11:59 PM  | NA | Turn in Final project, video, team evaluation survey, post-course survey |"
   ]
  },
  {
   "cell_type": "code",
   "execution_count": null,
   "metadata": {},
   "outputs": [],
   "source": []
  }
 ],
 "metadata": {
  "kernelspec": {
   "display_name": "Python 3 (ipykernel)",
   "language": "python",
   "name": "python3"
  },
  "language_info": {
   "codemirror_mode": {
    "name": "ipython",
    "version": 3
   },
   "file_extension": ".py",
   "mimetype": "text/x-python",
   "name": "python",
   "nbconvert_exporter": "python",
   "pygments_lexer": "ipython3",
   "version": "3.11.9"
  }
 },
 "nbformat": 4,
 "nbformat_minor": 4
}
