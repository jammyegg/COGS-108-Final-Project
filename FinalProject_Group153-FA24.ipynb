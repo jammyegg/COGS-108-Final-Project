{
 "cells": [
  {
   "cell_type": "markdown",
   "metadata": {},
   "source": [
    "# Sociodemographic Gaps and Relationship Quality: Exploring Age, Income, and Education Differences\n",
    "\n",
    "# Permissions\n",
    "\n",
    "Place an `X` in the appropriate bracket below to specify if you would like your group's project to be made available to the public. (Note that student names will be included (but PIDs will be scraped from any groups who include their PIDs).\n",
    "\n",
    "* [`X`] YES - make available\n",
    "* [  ] NO - keep private\n",
    "\n",
    "# Video Presentation\n",
    "\n",
    "Video Link: https://drive.google.com/file/d/1aAVKoKMF4PN7qiXGUSA3TeWAbd6aBjhD/view?usp=sharing\n",
    "\n",
    "# Names\n",
    "\n",
    "- Manya Jain\n",
    "- Jammy Luo\n",
    "- Katie Le\n",
    "- Vidhi Oswal\n",
    "\n",
    "# Abstract\n",
    "\n",
    "This study investigates how mismatches in sociodemographic factors—age gaps over five years, differences in household income, and education level differences—affect the quality of committed romantic relationships among adults in the United States. Our research question asks whether these mismatches negatively impact relationship quality. Using a cleaned dataset of 2,825 responses from the “How Couples Meet and Stay Together 2017” survey, we conducted an analysis of the correlations between these sociodemographic gaps and self-reported relationship quality. Exploratory Data Analysis revealed that larger age and education differences were associated with poorer relationship quality, while household income gaps appeared less impactful.\n",
    "The Chi-squared tests confirmed significant associations between relationship quality and age differences as well as education level mismatches, with p-values < 0.05. These findings support the hypothesis that greater sociodemographic mismatches correlate with lower relationship quality. However, income disparities may play a more nuanced role influenced by unmeasured variables.\n",
    "The findings highlight the complex interplay of sociodemographic variables in shaping the dynamics of romantic relationships. While age and education mismatches may strain relationship quality, income disparities seem less critical. These results have implications for understanding relationship dynamics and addressing societal biases, but we acknowledge the potential for misinterpretation and emphasize the need to approach such findings within an ethical framework."
   ]
  },
  {
   "cell_type": "markdown",
   "metadata": {},
   "source": [
    "# Research Question"
   ]
  },
  {
   "cell_type": "markdown",
   "metadata": {},
   "source": [
    "Do mismatches in sociodemographic factors measured through age gaps greater than five years, disparities in household income, and differences in education levels influence the quality of committed romantic relationships among adults older than 18 years old in the United States?"
   ]
  },
  {
   "cell_type": "markdown",
   "metadata": {},
   "source": [
    "## Background and Prior Work"
   ]
  },
  {
   "cell_type": "markdown",
   "metadata": {},
   "source": [
    "There are many factors that can influence the quality of a relationship. Although some may seem arbitrary, there is a general idea that certain mismatches in compatibility tend to result in lower quality relationships. Sociodemographic factors such as age, economic status, race, education level, and even previous relationship histories play a role in shaping the interactions and compatibility of individuals within a relationship. \n",
    "\n",
    "Vogue describes a general rule of thumb that the ideal age gap should be half your age then add seven for the lower barrier, and take seven of your age then double it for the upper barrier.<a name=\"cite_ref-3\"></a>[<sup>3</sup>](#cite_note-3) Age is not always a deciding factor that makes or breaks a relationship, but the power dynamic that results can be emotionally taxing. \n",
    "\n",
    "A study was done by Li et al., examining the effects on a womens happiness in relation to her education compared to her husband. The data looked at a wide variety of sociodemographic variables, specifically looking at education and self esteem. The results showed a mean of -0.167 for education, referring to the fact that only 22% of women had a higher education than their counterparts.<a name=\"cite_ref-2\"></a>[<sup>2</sup>](#cite_note-2) Additionally, in comparison there is a decrease in a woman's happiness from 0.064 to 0.058 as she increases in education. The study suggests that there is a possible correlation between happiness in a relationship and the education level of both partners. The clear sign of either partner “marrying up” can release negative emotions to the relationship. Despite this, the study does not specify the effect of education on the relationship itself, which is a point to consider. \n",
    "\n",
    "According to The Guardian, significant income or wealth gaps in relationships can create unique challenges, often increasing power dynamics that can influence relationship stability and satisfaction. Such differences may highlight contrasting financial habits or values, potentially leading to tensions around shared expenses, lifestyle choices, or long-term goals. Studies indicate that individuals who maintain financial independence within relationships may experience less pressure tied to monetary support, but they still often face societal judgments about income disparity, especially when gender norms are challenged.<a name=\"cite_ref-1\"></a>[<sup>1</sup>](#cite_note-1)\n",
    "Previous studies and articles have mentioned many of these sociodemographic factors, but not particularly in terms of how it affects the stability or length of the relationship itself. This project seeks to explore how these factors interact to predict the quality of romantic relationships, providing a quantitative analysis that aims to uncover patterns of relationship longevity across diverse sociodemographic backgrounds.\n",
    "\n",
    "1. <a name=\"cite_note-1\"></a> [^](#cite_ref-1) Hunt, E. (2024, September 21). “I earn £2m – my partner £20k. it’s a bit ridiculous”: The truth about wealth-gap relationships. The Guardian. https://www.theguardian.com/lifeandstyle/2024/sep/21/the-truth-about-wealth-gap-relationships#:~:text=Vast%20differences%20in%20income%20and,money%20%E2%80%93%20as%20hitting%20the%20jackpot \n",
    "2. <a name=\"cite_note-2\"></a> [^](#cite_ref-2) Li, Z., & Feng, X. (2023). Educational Difference Between Partners and Wife’s Happiness. Journal of Family Issues, 44(10), 2684-2707. https://doi.org/10.1177/0192513X221106731\n",
    "3. <a name=\"cite_note-3\"></a> [^](#cite_ref-3) Rasmussen, T. (2024, June 4). What is an Acceptable Age Gap in Relationships?. Vogue. https://www.vogue.com/article/age-gap-relationships"
   ]
  },
  {
   "cell_type": "markdown",
   "metadata": {},
   "source": [
    "# Hypothesis\n"
   ]
  },
  {
   "cell_type": "markdown",
   "metadata": {},
   "source": [
    "We hypothesize that the greater the mismatch in sociodemographic variables, such as large age gaps, income disparities, and differences in education levels, the greater the decline of quality in committed romantic relationships. This prediction is based on the idea that these mismatches lead to conflicting expectations for each other (i.e. partners with age gaps greater than 5 years are likely to be in different stages of life, which means difference in priorities regarding lifestyles and career goals), affecting compatibility and overall relationship satisfaction. Thus, a negative association can be inferred between the sociodemographic variables and relationship quality."
   ]
  },
  {
   "cell_type": "markdown",
   "metadata": {},
   "source": [
    "# Data"
   ]
  },
  {
   "cell_type": "markdown",
   "metadata": {},
   "source": [
    "## Data overview\n",
    "\n",
    "- Dataset #1\n",
    "  - Dataset Name: How Couples Meet and Stay Together 2017 (HCMST 2017)\n",
    "  - Link to the dataset: https://data.stanford.edu/hcmst2017\n",
    "  - Number of observations: 3510\n",
    "  - Number of variables: 725\n",
    "\n",
    "Dataset #1 contains information about 3510 survey respondents and their romantic partners detailing aspects of their relationship in 2017, all compiled into a single excel file. Some important variables to note include respondent and partner ages to assist in measuring age gaps, and respondent and partner education levels scaled from 1 (No formal education) to 4 (Professional or Doctorate degree) to compare education level differences; both age and education differences were calculated and added as their separate columns in the subset dataframe. Averages for both gaps in age and education were also generated to encompass overall observations on relationship quality. Responses regarding which individual in the relationship earned more serve as a way to study household income gaps, where the values in this column are reformatted to determine whether a gap exists or not, and relationship quality scaled from 1 (Excellent) to 5 (Very Poor) will be the primary outcome variable explored across the described sociodemographic variables. This dataset was preprocessed using .read_excel(), wrangled for relevant variables into a subset dataframe, and cleaned with both .isnull() and .dropna() to filter out missing values or responses."
   ]
  },
  {
   "cell_type": "markdown",
   "metadata": {},
   "source": [
    "## Dataset #1 (How Couples Meet and Stay Together 2017 (HCMST 2017))"
   ]
  },
  {
   "cell_type": "code",
   "execution_count": 184,
   "metadata": {},
   "outputs": [],
   "source": [
    "# Import packages\n",
    "import pandas as pd"
   ]
  },
  {
   "cell_type": "code",
   "execution_count": null,
   "metadata": {},
   "outputs": [],
   "source": [
    "# Load the dataset\n",
    "df = pd.read_excel('output_file.xlsx')\n",
    "\n",
    "df.head()"
   ]
  },
  {
   "cell_type": "code",
   "execution_count": null,
   "metadata": {},
   "outputs": [],
   "source": [
    "# Select relevant variables\n",
    "columns_to_select = ['w1_ppage','w1_ppagecat','w1_ppeduc','w1_ppeducat',\n",
    "                     'w1_ppethm','w1_ppgender','w1_q23','w1_ppincimp','w1_ppincimp_cat',\n",
    "                     'w1_ppmarit','w1_q4','w1_q6b','w1_q9','w1_q10','w1_q34']\n",
    "subset_df = df[columns_to_select]\n",
    "\n",
    "# Rename relevant variables for clarity\n",
    "subset_df = subset_df.rename(columns={'w1_ppage':'Age',\n",
    "                                      'w1_ppagecat':'Categorical Age',\n",
    "                                      'w1_ppeduc':'Education',\n",
    "                                      'w1_ppeducat':'Categorical Education',\n",
    "                                      'w1_ppethm':'Race/Ethnicity',\n",
    "                                      'w1_ppgender':'Gender',\n",
    "                                      'w1_q23':'Who Earned More',\n",
    "                                      'w1_ppincimp':'Total Household Income',\n",
    "                                      'w1_ppincimp_cat':'Categorical Household Income',\n",
    "                                      'w1_ppmarit':'Marriage Status',\n",
    "                                      'w1_q4':'Partner Gender',\n",
    "                                      'w1_q6b':'Partner Race',\n",
    "                                      'w1_q9':'Partner Age',\n",
    "                                      'w1_q10':'Partner Education',\n",
    "                                      'w1_q34':'Quality of Relationship'})\n",
    "\n",
    "subset_df.head()"
   ]
  },
  {
   "cell_type": "code",
   "execution_count": null,
   "metadata": {},
   "outputs": [],
   "source": [
    "# Check for null values by row\n",
    "subset_df.isnull().sum(axis='rows')"
   ]
  },
  {
   "cell_type": "code",
   "execution_count": null,
   "metadata": {},
   "outputs": [],
   "source": [
    "# Drop rows with missing values in relevant variables\n",
    "subset_df = subset_df.dropna(subset=['Who Earned More', 'Partner Age', 'Partner Education', 'Quality of Relationship'])\n",
    "\n",
    "subset_df.head()"
   ]
  },
  {
   "cell_type": "code",
   "execution_count": null,
   "metadata": {},
   "outputs": [],
   "source": [
    "# Exclude rows with respondent's age and partner's age value reported under 18\n",
    "subset_df = subset_df[(subset_df['Age'] >= 18) & (subset_df['Partner Age'] >= 18)]\n",
    "\n",
    "# Create new column of calculated age differences\n",
    "subset_df['Age Difference'] = abs(subset_df['Age'] - subset_df['Partner Age'])\n",
    "\n",
    "# Calculate mean age difference grouped by 'Quality of Relationship'\n",
    "mean_age_gap = subset_df.groupby('Quality of Relationship')['Age Difference'].mean()\n",
    "\n",
    "print(mean_age_gap)\n",
    "subset_df.head()"
   ]
  },
  {
   "cell_type": "code",
   "execution_count": null,
   "metadata": {},
   "outputs": [],
   "source": [
    "# Define a function to mutate responses that indicate income differences\n",
    "def earning_gap(response):\n",
    "    if response == 1 or response == 2:\n",
    "        return response\n",
    "    elif response == 3:\n",
    "        return 1\n",
    "    elif response == 4:\n",
    "        return 1\n",
    "\n",
    "# Apply function\n",
    "subset_df['Who Earned More'] = subset_df['Who Earned More'].apply(earning_gap)\n",
    "\n",
    "subset_df.head()"
   ]
  },
  {
   "cell_type": "code",
   "execution_count": null,
   "metadata": {},
   "outputs": [],
   "source": [
    "# Create new column of calculated education level differences\n",
    "subset_df['Education Difference'] = abs(subset_df['Education'] - subset_df['Partner Education'])\n",
    "\n",
    "# Calculate mean education level difference grouped by 'Quality of Relationship'\n",
    "mean_education_gap = subset_df.groupby('Quality of Relationship')['Education Difference'].mean()\n",
    "\n",
    "print(mean_education_gap)\n",
    "subset_df.head()"
   ]
  },
  {
   "cell_type": "code",
   "execution_count": null,
   "metadata": {},
   "outputs": [],
   "source": [
    "# Summary of subset of original dataset\n",
    "subset_df.describe()"
   ]
  },
  {
   "cell_type": "markdown",
   "metadata": {},
   "source": [
    "# Results\n",
    "\n",
    "## Exploratory Data Analysis\n",
    "\n",
    "We decided to explore the relationships between age gaps, household income disparities, and difference in education levels, and how these factors affect the quality of a committed romantic relationship."
   ]
  },
  {
   "cell_type": "code",
   "execution_count": null,
   "metadata": {},
   "outputs": [],
   "source": [
    "# Import packages\n",
    "import pandas as pd\n",
    "import numpy as np\n",
    "\n",
    "import seaborn as sns\n",
    "import matplotlib.pyplot as plt\n",
    "\n",
    "# Set plot parameters\n",
    "plt.rcParams['figure.figsize'] = (16,10)"
   ]
  },
  {
   "cell_type": "markdown",
   "metadata": {},
   "source": [
    "### Distributions of Variables\n",
    "\n",
    "We want to determine the distributions of each variable of interest before establishing the necessary plots that can accurately depict the relationships we want to explore. Responses from all variables have undergone mutations to best fit the context of the problem we want to examine, which may not result in a normal distribution. Therefore, these plots are important for better understanding the variable's distribution spread and potential outliers."
   ]
  },
  {
   "cell_type": "code",
   "execution_count": null,
   "metadata": {},
   "outputs": [],
   "source": [
    "# Distribution of Age Differences\n",
    "\n",
    "age_gap = sns.countplot(data=subset_df, x='Age Difference', color=sns.color_palette('deep')[3])\n",
    "plt.title('Age Differences Distribution', size=20)\n",
    "plt.xlabel('Age Gap Sizes (years)', size=15)\n",
    "plt.ylabel('Number of Respondents and Their Partners', size=15)\n",
    "plt.xticks(rotation=45);"
   ]
  },
  {
   "cell_type": "markdown",
   "metadata": {},
   "source": [
    "The distribution of age differences is strongly skewed to the right, with a greater proportion of respondents having age gaps of 0-3 years with their partners. We would want to see how exactly the relationships fair when they have a bigger age gap, particularly of people in age gaps greater than five years."
   ]
  },
  {
   "cell_type": "code",
   "execution_count": null,
   "metadata": {},
   "outputs": [],
   "source": [
    "# Distribution of Income Differences\n",
    "\n",
    "income_gap = sns.countplot(data=subset_df, x='Who Earned More')\n",
    "plt.title('Income Differences Distribution', size=20)\n",
    "plt.xlabel('Income Difference', size=15)\n",
    "plt.ylabel('Number of Respondents and Their Partners', size=15)\n",
    "income_gap.set_xticks([0, 1])\n",
    "income_gap.set_xticklabels(('Income Gap', 'No Income Gap'), size=15);"
   ]
  },
  {
   "cell_type": "markdown",
   "metadata": {},
   "source": [
    "According to this barplot, it is clear that there is a significant amount of participants that either earn more or less than their partners. Respondents of this variable were required to answer who had earned more in 2016 or when they were last together with their partners, which was collected with the following definitions in mind:\n",
    "- 1: I earned more\n",
    "- 2: We earned about the same amount\n",
    "- 3: [Partner Name] earned more\n",
    "- 4: [Partner Name] was not working for pay\n",
    "\n",
    "We consider values 1, 3, and 4 to be responses indicating there exists a household income disparity, and 2 to represent no gaps in income. "
   ]
  },
  {
   "cell_type": "code",
   "execution_count": null,
   "metadata": {},
   "outputs": [],
   "source": [
    "# Distribution of Education Level Differences\n",
    "\n",
    "education_distribution = sns.countplot(data=subset_df, x='Education Difference', color=sns.color_palette('deep')[4])\n",
    "plt.title('Education Level Differences Distribution', size=20)\n",
    "plt.xlabel('Education Gap Sizes by Difference in Levels', size=15)\n",
    "plt.ylabel('Number of Respondents and Their Partners', size=15)"
   ]
  },
  {
   "cell_type": "markdown",
   "metadata": {},
   "source": [
    "The distribution of education level differences is skewed heavily to the right, with a greater proportion of respondents having the same education or 1 education level gap with their partners. This makes sense as there's a higher chance that including young adults starting from age 18 and up may also include those currently attaining higher education and thus, form relationships with those close to their education levels. Respondents and their partners of this variable provided the highest degree they received, which were reflected upon the following definitions:\n",
    "- 1: No formal education\n",
    "- 2: 1st, 2nd, 3rd, or 4th grade\n",
    "- 3: 5th or 6th grade\n",
    "- 4: 7th or 8th grade\n",
    "- 5: 9th grade\n",
    "- 6: 10th grade\n",
    "- 7: 11th grade\n",
    "- 8: 12th grade NO DIPLOMA\n",
    "- 9: HIGH SCHOOL GRADUATE - high school DIPLOMA or the equivalent (GED)\n",
    "- 10: Some college, no degree\n",
    "- 11: Associate degree\n",
    "- 12: Bachelors degree\n",
    "- 13: Masters degree\n",
    "- 14: Professional or Doctorate degree\n",
    "\n",
    "Gap sizes in education were calculated through the difference in the two individual's responses."
   ]
  },
  {
   "cell_type": "code",
   "execution_count": null,
   "metadata": {},
   "outputs": [],
   "source": [
    "# Distribution of Relationship Quality Scores\n",
    "\n",
    "quality_distribution = sns.countplot(data=subset_df, x='Quality of Relationship', color='pink')\n",
    "plt.title('Relationship Quality Score Distribution', size=20)\n",
    "plt.xlabel('Relationship Quality Scores', size=15)\n",
    "plt.ylabel('Number of Respondents', size=15)\n",
    "quality_distribution.set_xticks([0, 1, 2, 3, 4])\n",
    "quality_distribution.set_xticklabels(('1: Excellent',\n",
    "                                      '2: Good',\n",
    "                                      '3: Fair',\n",
    "                                      '4: Poor',\n",
    "                                      '5: Very Poor'), size=15);"
   ]
  },
  {
   "cell_type": "markdown",
   "metadata": {},
   "source": [
    "Relationship quality is distributed across a scale of 1 to 5, where 1 represents \"Excellent\" and 5 represents \"Very Poor.\" The data shows that majority of respondents find their relationship exceptional while very few describe it as the opposite."
   ]
  },
  {
   "cell_type": "markdown",
   "metadata": {},
   "source": [
    "### Relationship Quality by Age Differences\n",
    "\n",
    "We want to see if age gaps affect the quality of committed romantic relationships. Therefore, a stacked barplot was used to distinguish the varying relationship quality scores within each age difference category. This allows us to look at the changing proportions of relationship qualities across these age differences. The contrast from dark to light colors in the distribution demonstrate excellent to very poor quality of relationship."
   ]
  },
  {
   "cell_type": "code",
   "execution_count": null,
   "metadata": {},
   "outputs": [],
   "source": [
    "# Plot age difference categories vs. relationship quality\n",
    "\n",
    "df2 = subset_df.groupby(['Quality of Relationship','Age Difference'])['Quality of Relationship'].count().unstack('Age Difference').fillna(0)\n",
    "sub_df2 = np.transpose(df2.div(df2.sum()))\n",
    "\n",
    "ax = sub_df2.plot(kind='bar', stacked=True, rot=0, color=sns.color_palette(\"YlOrBr\", as_cmap=False)[::-1])\n",
    "plt.title('Relationship Quality by Age Differences', size=20)\n",
    "plt.legend(title='Quality of Relationship',\n",
    "           labels=['1: Excellent',\n",
    "                  '2: Good',\n",
    "                  '3: Fair',\n",
    "                  '4: Poor',\n",
    "                  '5: Very Poor'],\n",
    "           loc='upper right')\n",
    "plt.xlabel('Age Gap Sizes (years)', size=15)\n",
    "plt.ylabel('Number of Respondents and Their Partners', size=15)\n",
    "plt.xticks(rotation=45);"
   ]
  },
  {
   "cell_type": "markdown",
   "metadata": {},
   "source": [
    "The stacked barplot shows that bigger age gaps, like 22 years and 38 years in age difference, have poorer relationship quality than the smaller age gaps. There is a greater prevalence of quality values of 3 to 5 evident in the lightness of the latter bars, indicating a worse relationship quality for respondents with bigger age gaps.\n",
    "\n",
    "Given these responses, we can see that there is likely a pattern between the two variables such that the quality is more likely to decrease when the age gap increases."
   ]
  },
  {
   "cell_type": "code",
   "execution_count": null,
   "metadata": {},
   "outputs": [],
   "source": [
    "# Plot average age difference vs. relationship quality\n",
    "\n",
    "mean_age_quality = mean_age_gap.plot(kind='bar', color=sns.color_palette('deep')[3])\n",
    "plt.title('Average Age Differences by Relationship Quality', size=20)\n",
    "plt.xlabel('Quality of Relationship', size=15)\n",
    "plt.ylabel('Average Age Gap Sizes Across Respondents and their Partners (years)', size=15)\n",
    "plt.xticks(rotation=0);\n",
    "mean_age_quality.set_xticklabels(('1: Excellent', '2: Good', '3: Fair', '4: Poor', '5: Very Poor'), size=15);"
   ]
  },
  {
   "cell_type": "markdown",
   "metadata": {},
   "source": [
    "This barplot summarizes the average age gap size in each relationship quality score. We can see a similarity in this chart to the previous stacked barplot, where larger age gap size indicates poorer quality of relationship."
   ]
  },
  {
   "cell_type": "markdown",
   "metadata": {},
   "source": [
    "### Relationship Quality by Income Differences\n",
    "\n",
    "We also want to see if income disparities have any influence on the quality of committed romantic relationships. Therefore, another stacked barplot was used to distinguish the varying relationship quality scores in whether an income gap exists between partners or not. The contrast from dark to light colors in the distribution demonstrate excellent to very poor quality of relationship."
   ]
  },
  {
   "cell_type": "code",
   "execution_count": null,
   "metadata": {},
   "outputs": [],
   "source": [
    "# Plot household income categories vs relationship quality\n",
    "\n",
    "df2 = subset_df.groupby(['Quality of Relationship','Who Earned More'], observed=True)['Quality of Relationship'].count().unstack('Who Earned More').fillna(0)\n",
    "sub_df2 = np.transpose(df2.div(df2.sum()))\n",
    "\n",
    "ax = sub_df2.plot(kind='bar', stacked=True, rot=0, color=sns.color_palette(\"viridis\", 5))\n",
    "plt.title('Relationship Quality by Income Differences', size=20)\n",
    "plt.legend(title='Quality of Relationship',\n",
    "           labels=['1: Excellent',\n",
    "                  '2: Good',\n",
    "                  '3: Fair',\n",
    "                  '4: Poor',\n",
    "                  '5: Very Poor'],\n",
    "           loc='upper right')\n",
    "plt.xlabel('Income Difference', size=15)\n",
    "plt.ylabel('Number of Respondents and Their Partners', size=15)\n",
    "ax.set_xticklabels(('Income Gap', 'No Income Gap'), size=15);"
   ]
  },
  {
   "cell_type": "markdown",
   "metadata": {},
   "source": [
    "The data suggests that the presence or absence of an income gap does not drastically affect relationship quality as the distributions of ratings are nearly identical. This is not what we expected given the number of respondents who had an income gap. This indicates that there may be other factors that may play a larger role in determining relationship quality beyond income disparities."
   ]
  },
  {
   "cell_type": "markdown",
   "metadata": {},
   "source": [
    "### Relationship Quality by Education Level Differences\n",
    "\n",
    "Lastly, we want to examine the impacts of education level differences on the quality of committed romantic relationships. A stacked barplot was chosen to distinguish the varying relationship quality scores within each education gap category. The contrast from dark to light colors in the distribution demonstrate excellent to very poor quality of relationship."
   ]
  },
  {
   "cell_type": "code",
   "execution_count": null,
   "metadata": {},
   "outputs": [],
   "source": [
    "# Plot household income categories vs relationship quality\n",
    "\n",
    "df2 = subset_df.groupby(['Quality of Relationship','Education Difference'], observed=True)['Quality of Relationship'].count().unstack('Education Difference').fillna(0)\n",
    "sub_df2 = np.transpose(df2.div(df2.sum()))\n",
    "\n",
    "ax = sub_df2.plot(kind='bar', stacked=True, rot=0, color=sns.cubehelix_palette(as_cmap=False)[::-1])\n",
    "plt.title('Relationship Quality by Education Level Differences', size=20)\n",
    "plt.legend(title='Quality of Relationship',\n",
    "           labels=['1: Excellent',\n",
    "                  '2: Good',\n",
    "                  '3: Fair',\n",
    "                  '4: Poor',\n",
    "                  '5: Very Poor'],\n",
    "           loc='upper right')\n",
    "plt.xlabel('Education Gap Sizes by Difference in Levels', size=15)\n",
    "plt.ylabel('Number of Respondents and Their Partners', size=15);"
   ]
  },
  {
   "cell_type": "markdown",
   "metadata": {},
   "source": [
    "There is a noticeable decline in relationship quality when partners have a greater education level difference between each other. A gap greater than 9 shows no prevalence of quality values of 1, indicating a negative relationship between the two variables.\n",
    "\n",
    "The data reveals a clear negative pattern between the education level difference and relationship quality. We would want to explore if there is a negative correlation, and really see if there is a significance of these findings."
   ]
  },
  {
   "cell_type": "code",
   "execution_count": null,
   "metadata": {},
   "outputs": [],
   "source": [
    "# Plot average education level difference vs. relationship quality\n",
    "\n",
    "mean_education_quality = mean_education_gap.plot(kind='bar', color=sns.color_palette('deep')[4])\n",
    "plt.title('Average Education Level Differences by Relationship Quality', size=20)\n",
    "plt.xlabel('Quality of Relationship', size=15)\n",
    "plt.ylabel('Average Education Gap Sizes by Difference in Levels', size=15)\n",
    "plt.xticks(rotation=0);\n",
    "mean_education_quality.set_xticklabels(('1: Excellent', '2: Good', '3: Fair', '4: Poor', '5: Very Poor'), size=15);"
   ]
  },
  {
   "cell_type": "markdown",
   "metadata": {},
   "source": [
    "This barplot encapsulates the average education gap size for each relationship quality score. We can spot a similar trend in this chart to the above stacked barplot, suggesting that a greater difference in education levels may contribute to poorer relationship quality."
   ]
  },
  {
   "cell_type": "markdown",
   "metadata": {},
   "source": [
    "## Data Analysis\n",
    "\n",
    "We want to apply statistical testing to determine whether the observed correlations were actually significant. To do this, we employed a Chi-Square test that will reaffirm these potential relationships, given that there are categorical variables respective to the numerical variables age, household income, and education."
   ]
  },
  {
   "cell_type": "code",
   "execution_count": null,
   "metadata": {},
   "outputs": [],
   "source": [
    "# Import packages\n",
    "from scipy.stats import chi2_contingency"
   ]
  },
  {
   "cell_type": "code",
   "execution_count": null,
   "metadata": {},
   "outputs": [],
   "source": [
    "# Define two variables that will be analyzed for association\n",
    "variable_1 = 'Categorical Household Income'\n",
    "variable_2 = 'Quality of Relationship'\n",
    "\n",
    "# Create subset from subset to contain only the defined variables\n",
    "chi_df = subset_df[[variable_1, variable_2]]\n",
    "\n",
    "# Generate contingency table\n",
    "contingency_table = pd.crosstab(chi_df[variable_1], chi_df[variable_2])"
   ]
  },
  {
   "cell_type": "code",
   "execution_count": null,
   "metadata": {},
   "outputs": [],
   "source": [
    "# Perform Chi-Square test\n",
    "chi2, p, dof, expected = chi2_contingency(contingency_table)\n",
    "\n",
    "print(\"Chi-Square Test Results\")\n",
    "print(f\"Chi2 Statistic: {chi2}\")\n",
    "print(f\"Degrees of Freedom: {dof}\")\n",
    "print(f\"P-Value: {p}\")\n",
    "if p < 0.05:\n",
    "    print(\"Conclusion: Significant association exists between the variables.\")\n",
    "else:\n",
    "    print(\"Conclusion: No significant association exists between the variables.\")"
   ]
  },
  {
   "cell_type": "code",
   "execution_count": null,
   "metadata": {},
   "outputs": [],
   "source": [
    "# List of relevant categorical variables\n",
    "categorical_variables = ['Categorical Age',\n",
    "                         'Categorical Household Income',\n",
    "                         'Categorical Education']\n",
    "\n",
    "quality_variable = 'Quality of Relationship'\n",
    "\n",
    "# Define a function that runs the Chi-Square test through relevant variables\n",
    "def chi_square_test(data, var1, var2):\n",
    "    data_cleaned = subset_df[[var1, var2]].dropna()  \n",
    "    contingency_table = pd.crosstab(data_cleaned[var1], data_cleaned[var2])  \n",
    "    chi2, p, dof, _ = chi2_contingency(contingency_table) \n",
    "    return chi2, p, dof\n",
    "\n",
    "print(\"Chi-Square Test Results for Sociodemographic Factors vs. Relationship Quality\")\n",
    "print(\"=\" * 70)\n",
    "\n",
    "for var in categorical_variables:\n",
    "    chi2, p, dof = chi_square_test(subset_df, var, quality_variable)\n",
    "    print(f\"Variables: {var} vs. {quality_variable}\")\n",
    "    print(f\"  Chi2 Statistic: {chi2:.4f}\")\n",
    "    print(f\"  P-Value: {p:.4f}\")\n",
    "    print(f\"  Degrees of Freedom: {dof}\")\n",
    "    if p < 0.05:\n",
    "        print(\"  Conclusion: Significant association exists.\\n\")\n",
    "    else:\n",
    "        print(\"  Conclusion: No significant association.\\n\")"
   ]
  },
  {
   "cell_type": "markdown",
   "metadata": {},
   "source": [
    "The variables result in p-values of 0, which indicates that the observed differences are not due to chance and thereby allows us to reject the null hypothesis. Additionally, the high Chi2 Statistic values (greater than 45) shows a greater discrepancy between observed and expected frequencies, making it much more conclusive that the null hypothesis can be rejected.\n",
    "\n",
    "This means all the tested sociodemographic variables (age, household income, and education) are significantly associated with and actively influencing the quality of relationships."
   ]
  },
  {
   "cell_type": "markdown",
   "metadata": {},
   "source": [
    "# Ethics & Privacy"
   ]
  },
  {
   "cell_type": "markdown",
   "metadata": {},
   "source": [
    "When studying sensitive topics such as romantic relationships, it is vital to acknowledge that the implications of our findings could influence and bias certain behaviors. For that, it is important to approach our project with an ethical framework.\n",
    "\n",
    "Firstly, we had to identify any potential biases in our population. Ensuring the data is clean first will assist in any unintended bias. We concluded that the factor of anonymity helped to ensure that the method of survey was through random-digit dial phone calls. This allows for a more holistic representation of the standard American society we aim for since surveys won't be directed to one region, but rather across the United States. There are no privacy or terms of use issues with the data we have proposed, but an unlikely, possible issue with anonymization is that unique combinations of sociodemographic data could make participants of the study re-identifiable. Privacy is also enforced within aggregated variables such as household income. While privacy is ensured through anonymization by associating individuals with IDs, there may still be bias present through technology limitations. Groups across the United States that do not have access to telephones may be underrepresented. This could also exclude populations with lower household income or other factors that lead to restricted telephone access.\n",
    "\n",
    "To check for potential biases in our dataset(s) and if any groups are underrepresented, we will perform an exploratory data analysis (EDA). During analysis, we will check if there are sociodemographic factors that disproportionately influence our model, indicating any sort of bias. For instance, we will assess the distribution of age differences, education level differences, etc.\n",
    "\n",
    "The findings in our research could unintentionally reinforce societal biases and discourage individuals from pursuing non-conventional relationships. For instance, based on our study’s correlations, those in relationships with significant age gaps might perceive their dynamic as judged to be even more unconventional. Another issue that could potentially be problematic is that our findings could be used to promote narrow views on the “ideal” relationship to discourage differences between partners in relationships. Our research only analyzes data for potential correlations, and does not imply causation.\n",
    "\n",
    "To mitigate these issues, we could make sure variables such as incomes are aggregated rather than exact to protect the privacy of participants even further. We will communicate clearly in our analyses and video presentation that any correlations in our findings do not imply causation or any predictive, causal factors in relationship success or failure. Describing our findings and conclusions as exploratory is significant to avoid any judgemental biases or behaviors that arise. We will also emphasize the importance of diversity in relationships and validate sociodemographic differences to ensure that our findings are not misinterpreted to reinforce stereotypes.\n",
    "By adhering to this ethical framework, the aim of our project is to contribute to discussions of relationship dynamics constructively, while respecting the diversity and complexity of relationships."
   ]
  },
  {
   "cell_type": "markdown",
   "metadata": {},
   "source": [
    "# Discussion and Conclusion\n",
    "\n",
    "This research project aims to understand how specific sociodemographic factors can affect the quality of a romantic relationship, specifically focusing on age, income, and education differences between partners. The dataset accessed primarily focused on people in the United States and reached out through a phone survey, highlighting a general limitation of our project. However, the provided data still offers valuable insights that can be manipulated and understood for our research question at hand.\n",
    "\n",
    "The EDA process displayed a visual representation of the trend between age gap, income gap, and education gap among respondents quality of relationship. There is a negative association between each variable, where as the gap increases, the relationship quality decreases. Despite the variable distributions skewing heavily towards the right, most maintained a good relationship and a negligible gap in the sociodemographic factors. In contrast, income levels served as the only variable which, by itself presented a greater proportion of respondents who had a gap versus those who did not. When comparing age distribution to relationship quality, gaps bigger than 19 years display a smaller prevalence of an ‘excellent’ relationship. However, some age gap values are severely less common as compared to others, making the distribution of relationship quality a bit skewed (as in some cases, the sample size could be as low as 1 relationship). Similarly, for education level difference, there is a clear skewed distribution of relationship quality, where the positive relationships become less prevalent as the education gap increases. Notably, the data shows little effect or relationship between income gap and relationship quality, suggesting that unlike what we believed to be true, there is likely no effect of an income gap on the quality of one’s relationship.\n",
    "\n",
    "Further data analysis was done to understand if the relationship between these variables were significant. We used a Chi-Square test for each variable relationship (age vs. relationship quality, education level vs. relationship quality, and household income vs. relationship quality). The results showed that each tested sociodemographic variable was associated with relationship quality and had an affect to the quality of respondent’s relationship. Through p-values of 0, we can reject the null hypothesis and conclude that age, household income, and education level impacts the quality of a relationship. Despite the lack of visual difference for income gap in the EDA analysis, the Chi-Square test shows significant association between the two variables, thus we can say overall there is an impact of income gap on the relationship. Through EDA analysis and the latter statistical testing, we can accept our hypothesis and state that the greater the age gap, education level gap, and income gap between partners, the lower the quality of the relationship is likely to be.\n",
    "\n",
    "While our analysis provided insight into relationships between sociodemographic gaps and relationship quality, there were limitations such as dataset representation, unexplored confounding variables, and more. The dataset relied on responses surveyed through phone calls, which excluded populations without access to telecommunication, meaning that certain socioeconomic groups such as those residing in rural areas were not considered to their extent. Thus, generalizability of findings could have been limited. These findings are only exploratory and identify possible correlations, not causations. The findings should not be interpreted as predictors of relationship success or failure. Instead, these findings provide us insight into relationship dynamics.\n",
    "\n",
    "# Team Contributions\n",
    "\n",
    "Manya Jain\n",
    "- Background and Prior Work\n",
    "- EDA\n",
    "- Discussion and Conclusion\n",
    "- Audio Recording\n",
    "- Presentation Slides\n",
    "\n",
    "Jammy Luo\n",
    "- Data Analysis\n",
    "- Data Cleaning/Wrangling\n",
    "- EDA\n",
    "- Audio Recording\n",
    "- Presentation Slides\n",
    "\n",
    "Katie Le\n",
    "- Background and Prior Work\n",
    "- Data Visualizations (EDA)\n",
    "- Ethics & Privacy\n",
    "- Audio Recording\n",
    "- Video Editing\n",
    "- Presentation Slides\n",
    "\n",
    "Vidhi Oswal\n",
    "- Abstract\n",
    "- Data Cleaning/Wrangling\n",
    "- Audio Recording\n",
    "- Presentation Slides"
   ]
  }
 ],
 "metadata": {
  "kernelspec": {
   "display_name": "Python 3 (ipykernel)",
   "language": "python",
   "name": "python3"
  },
  "language_info": {
   "codemirror_mode": {
    "name": "ipython",
    "version": 3
   },
   "file_extension": ".py",
   "mimetype": "text/x-python",
   "name": "python",
   "nbconvert_exporter": "python",
   "pygments_lexer": "ipython3",
   "version": "3.11.9"
  }
 },
 "nbformat": 4,
 "nbformat_minor": 4
}
